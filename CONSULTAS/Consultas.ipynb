{
 "cells": [
  {
   "cell_type": "code",
   "execution_count": 0,
   "metadata": {
    "application/vnd.databricks.v1+cell": {
     "cellMetadata": {
      "byteLimit": 2048000,
      "rowLimit": 10000
     },
     "inputWidgets": {},
     "nuid": "146e776d-038b-4e46-8355-149d1b59e8fb",
     "showTitle": false,
     "tableResultSettingsMap": {},
     "title": ""
    }
   },
   "outputs": [],
   "source": [
    "from pyspark.sql import functions as F\n",
    "from pyspark.sql.functions import count\n",
    "from pyspark.sql.window import Window\n",
    "w = Window.partitionBy()"
   ]
  },
  {
   "cell_type": "code",
   "execution_count": 0,
   "metadata": {
    "application/vnd.databricks.v1+cell": {
     "cellMetadata": {
      "byteLimit": 2048000,
      "rowLimit": 10000
     },
     "inputWidgets": {},
     "nuid": "8ad0f5ce-dc2d-4e3e-a3f5-b222248e7089",
     "showTitle": false,
     "tableResultSettingsMap": {},
     "title": ""
    }
   },
   "outputs": [],
   "source": [
    "catalog       = \"workspace\"\n",
    "schema_bronze = \"bronze\"\n",
    "schema_silver = \"silver\"\n",
    "schema_gold   = \"gold\""
   ]
  },
  {
   "cell_type": "code",
   "execution_count": 0,
   "metadata": {
    "application/vnd.databricks.v1+cell": {
     "cellMetadata": {
      "byteLimit": 2048000,
      "rowLimit": 10000
     },
     "inputWidgets": {},
     "nuid": "91b5492b-b886-415d-bdf7-595f5dfc9395",
     "showTitle": false,
     "tableResultSettingsMap": {},
     "title": ""
    }
   },
   "outputs": [],
   "source": [
    "# Consultar a tabela pessoas em seus totais, percentuais e média de idade.\n",
    "df_consultas_gold = (spark.read.table(f\"{catalog}.{schema_gold}.pessoas\")\n",
    "                     .select(\n",
    "                           F.count(F.col(\"*\")).alias(\"total_pessoas\")\n",
    "                         , F.count(F.when(F.col(\"genero\") == \"Male\", True)).alias(\"total_homens\")\n",
    "                         , F.count(F.when(F.col(\"genero\") == \"Female\", True)).alias(\"total_mulheres\")\n",
    "                         , (F.count(F.when(F.col(\"genero\") == \"Male\", True)) / F.count(F.col(\"*\"))).alias(\"percentual_homens\")\n",
    "                         , (F.count(F.when(F.col(\"genero\") == \"Female\", True)) / F.count(F.col(\"*\"))).alias(\"percentual_mulheres\")\n",
    "                         , F.avg(F.col(\"idade\")).alias(\"media_idade\")\n",
    "                         )\n",
    "                     )\n",
    "\n",
    "df_consultas_gold.display()"
   ]
  },
  {
   "cell_type": "code",
   "execution_count": 0,
   "metadata": {
    "application/vnd.databricks.v1+cell": {
     "cellMetadata": {
      "byteLimit": 2048000,
      "rowLimit": 10000
     },
     "inputWidgets": {},
     "nuid": "a231a691-dc65-4aae-ab51-975ed25385a4",
     "showTitle": false,
     "tableResultSettingsMap": {
      "0": {
       "dataGridStateBlob": "{\"version\":1,\"tableState\":{\"columnPinning\":{\"left\":[\"#row_number#\"],\"right\":[]},\"columnSizing\":{},\"columnVisibility\":{}},\"settings\":{\"columns\":{}},\"syncTimestamp\":1755176223658}",
       "filterBlob": null,
       "queryPlanFiltersBlob": null,
       "tableResultIndex": 0
      }
     },
     "title": ""
    }
   },
   "outputs": [],
   "source": [
    "df_consultas_agg_gold = (spark.read.table(f\"{catalog}.{schema_gold}.pessoas\")\n",
    "                     .groupBy(F.col(\"pais\"))\n",
    "                     .agg(\n",
    "                         F.count(F.col(\"*\")).alias(\"total_pessoas\")\n",
    "                         , F.count(F.when(F.col(\"genero\") == \"Male\", True)).alias(\"total_homens\")\n",
    "                         , F.count(F.when(F.col(\"genero\") == \"Female\", True)).alias(\"total_mulheres\")\n",
    "                         , F.round((F.count(F.when(F.col(\"genero\") == \"Male\", True)) / F.count(F.col(\"*\"))), 2).alias(\"percentual_homens\")\n",
    "                         , F.round((F.count(F.when(F.col(\"genero\") == \"Female\", True)) / F.count(F.col(\"*\"))), 2).alias(\"percentual_mulheres\")\n",
    "                         , F.round(F.avg(F.col(\"idade\")), 2).alias(\"media_idade\")\n",
    "                         )\n",
    "                     )\n",
    "\n",
    "display(df_consultas_agg_gold)"
   ]
  },
  {
   "cell_type": "code",
   "execution_count": 0,
   "metadata": {
    "application/vnd.databricks.v1+cell": {
     "cellMetadata": {
      "byteLimit": 2048000,
      "rowLimit": 10000
     },
     "inputWidgets": {},
     "nuid": "07e6585a-7ccc-4cba-8abb-3d12739e7765",
     "showTitle": false,
     "tableResultSettingsMap": {
      "0": {
       "dataGridStateBlob": "{\"version\":1,\"tableState\":{\"columnPinning\":{\"left\":[\"#row_number#\"],\"right\":[]},\"columnSizing\":{},\"columnVisibility\":{}},\"settings\":{\"columns\":{}},\"syncTimestamp\":1755176924891}",
       "filterBlob": null,
       "queryPlanFiltersBlob": null,
       "tableResultIndex": 0
      }
     },
     "title": ""
    }
   },
   "outputs": [],
   "source": [
    "df_consultas_agg_nasc_gold = (spark.read.table(f\"{catalog}.{schema_gold}.pessoas\")\n",
    "                     .groupBy(F.col(\"data_nascimento\"))\n",
    "                     .agg(\n",
    "                         F.count(F.col(\"*\")).alias(\"total_pessoas\")\n",
    "                         , F.count(F.when(F.col(\"genero\") == \"Male\", True)).alias(\"total_homens\")\n",
    "                         , F.count(F.when(F.col(\"genero\") == \"Female\", True)).alias(\"total_mulheres\")\n",
    "                         , F.round((F.count(F.when(F.col(\"genero\") == \"Male\", True)) / F.count(F.col(\"*\"))), 2).alias(\"percentual_homens\")\n",
    "                         , F.round((F.count(F.when(F.col(\"genero\") == \"Female\", True)) / F.count(F.col(\"*\"))), 2).alias(\"percentual_mulheres\")\n",
    "                         , F.round(F.avg(F.col(\"idade\")), 2).alias(\"media_idade\")\n",
    "                         )\n",
    "                     )\n",
    "\n",
    "display(df_consultas_agg_nasc_gold)"
   ]
  },
  {
   "cell_type": "code",
   "execution_count": 0,
   "metadata": {
    "application/vnd.databricks.v1+cell": {
     "cellMetadata": {
      "byteLimit": 2048000,
      "rowLimit": 10000
     },
     "inputWidgets": {},
     "nuid": "090c4b57-8376-4f48-aa13-f8c9346264b2",
     "showTitle": false,
     "tableResultSettingsMap": {
      "0": {
       "dataGridStateBlob": "{\"version\":1,\"tableState\":{\"columnPinning\":{\"left\":[\"#row_number#\"],\"right\":[]},\"columnSizing\":{},\"columnVisibility\":{}},\"settings\":{\"columns\":{}},\"syncTimestamp\":1755176985671}",
       "filterBlob": null,
       "queryPlanFiltersBlob": null,
       "tableResultIndex": 0
      }
     },
     "title": ""
    }
   },
   "outputs": [],
   "source": [
    "df_consultas_agg_idade_gold = (spark.read.table(f\"{catalog}.{schema_gold}.pessoas\")\n",
    "                     .groupBy(F.col(\"idade\"))\n",
    "                     .agg(\n",
    "                         F.count(F.col(\"*\")).alias(\"total_pessoas\")\n",
    "                         , F.count(F.when(F.col(\"genero\") == \"Male\", True)).alias(\"total_homens\")\n",
    "                         , F.count(F.when(F.col(\"genero\") == \"Female\", True)).alias(\"total_mulheres\")\n",
    "                         , F.round((F.count(F.when(F.col(\"genero\") == \"Male\", True)) / F.count(F.col(\"*\"))), 2).alias(\"percentual_homens\")\n",
    "                         , F.round((F.count(F.when(F.col(\"genero\") == \"Female\", True)) / F.count(F.col(\"*\"))), 2).alias(\"percentual_mulheres\")\n",
    "                         , F.round(F.avg(F.col(\"idade\")), 2).alias(\"media_idade\")\n",
    "                         )\n",
    "                     )\n",
    "\n",
    "display(df_consultas_agg_idade_gold)"
   ]
  }
 ],
 "metadata": {
  "application/vnd.databricks.v1+notebook": {
   "computePreferences": null,
   "dashboards": [],
   "environmentMetadata": {
    "base_environment": "",
    "environment_version": "2"
   },
   "inputWidgetPreferences": null,
   "language": "python",
   "notebookMetadata": {
    "pythonIndentUnit": 4
   },
   "notebookName": "Consultas",
   "widgets": {}
  },
  "language_info": {
   "name": "python"
  }
 },
 "nbformat": 4,
 "nbformat_minor": 0
}
