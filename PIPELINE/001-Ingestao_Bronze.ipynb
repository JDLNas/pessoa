{
 "cells": [
  {
   "cell_type": "code",
   "execution_count": 0,
   "metadata": {
    "application/vnd.databricks.v1+cell": {
     "cellMetadata": {
      "byteLimit": 2048000,
      "rowLimit": 10000
     },
     "inputWidgets": {},
     "nuid": "d7bcea82-6778-488b-90da-f323828080db",
     "showTitle": false,
     "tableResultSettingsMap": {},
     "title": ""
    }
   },
   "outputs": [],
   "source": [
    "# Imports\n",
    "from pyspark.sql import SparkSession\n",
    "from pyspark.sql import functions as F\n",
    "from pyspark.sql.functions import current_timestamp, lit, trim\n",
    "from pyspark.sql.types import StructType, StructField, IntegerType, StringType\n",
    "from datetime import datetime\n",
    "\n",
    "# Inicializa a sessão\n",
    "spark = SparkSession.builder.getOrCreate()"
   ]
  },
  {
   "cell_type": "code",
   "execution_count": 0,
   "metadata": {
    "application/vnd.databricks.v1+cell": {
     "cellMetadata": {
      "byteLimit": 2048000,
      "rowLimit": 10000
     },
     "inputWidgets": {},
     "nuid": "2e8e7ff3-8e37-48f6-957f-e5885d5d182a",
     "showTitle": false,
     "tableResultSettingsMap": {},
     "title": ""
    }
   },
   "outputs": [],
   "source": [
    "catalog       = \"workspace\"\n",
    "schema_bronze = \"bronze\"\n",
    "schema_silver = \"silver\"\n",
    "schema_gold   = \"gold\"\n",
    "\n",
    "volume = \"formacaomicrosoftpowerbiprofessional\"\n",
    "base   = f\"/Volumes/{catalog}/default/{volume}\"\n",
    "\n",
    "landing_processar   = f\"{base}/landingzone/processar\"\n",
    "landing_processados = f\"{base}/landingzone/processados\"\n",
    "\n",
    "dbutils.fs.mkdirs(landing_processar)\n",
    "dbutils.fs.mkdirs(landing_processados)\n"
   ]
  },
  {
   "cell_type": "code",
   "execution_count": 0,
   "metadata": {
    "application/vnd.databricks.v1+cell": {
     "cellMetadata": {
      "byteLimit": 2048000,
      "rowLimit": 10000
     },
     "inputWidgets": {},
     "nuid": "04ce6dc4-c8ca-409a-9573-40c9d65062f8",
     "showTitle": false,
     "tableResultSettingsMap": {},
     "title": ""
    }
   },
   "outputs": [],
   "source": [
    "# Ler CSV do Landing com schema explícito\n",
    "schema_pessoas = StructType([\n",
    "    StructField(\"Codigo\", IntegerType(), True)\n",
    "    , StructField(\"PrimeiroNome\", StringType(), True)\n",
    "    , StructField(\"UltimoNome\", StringType(), True)\n",
    "    , StructField(\"email\", StringType(), True)\n",
    "    , StructField(\"Genero\", StringType(), True)\n",
    "    , StructField(\"Avatar\", StringType(), True)\n",
    "    , StructField(\"Pais\", StringType(), True)\n",
    "    , StructField(\"Nascimento\", StringType(), True) # dd/MM/yyyy ainda como string\n",
    "])\n",
    "\n",
    "caminho_csv = f\"{landing_processar}/PESSOAS.csv\"\n",
    "\n",
    "df_raw = (spark\n",
    "          .read\n",
    "          .schema(schema_pessoas)\n",
    "          .options(header=\"true\", encoding=\"UTF-8\")\n",
    "          .csv(caminho_csv)\n",
    "          .withColumn(\"_ingestion_ts\", current_timestamp())\n",
    "          .withColumn(\"_source_file\", lit(\"PESSOAS.csv\"))\n",
    "          )\n",
    "\n",
    "# Escrever Bronze como tabela Delta gerenciada\n",
    "(df_raw\n",
    " .write\n",
    " .mode(\"overwrite\")\n",
    " .format(\"delta\")\n",
    " .saveAsTable(f\"{catalog}.{schema_bronze}.pessoas\"))"
   ]
  },
  {
   "cell_type": "code",
   "execution_count": 0,
   "metadata": {
    "application/vnd.databricks.v1+cell": {
     "cellMetadata": {
      "byteLimit": 2048000,
      "rowLimit": 10000
     },
     "inputWidgets": {},
     "nuid": "e7b86cf0-33d5-491a-a8e6-12fdedfe49aa",
     "showTitle": false,
     "tableResultSettingsMap": {},
     "title": ""
    }
   },
   "outputs": [],
   "source": [
    "# Arquivar o arquivo processado (mover para \"processados\")\n",
    "ts = datetime.now().strftime(\"%Y%m%d%H%M%S\")\n",
    "dbutils.fs.cp(caminho_csv, f\"{landing_processados}/PESSOAS_{ts}.csv\", True)"
   ]
  }
 ],
 "metadata": {
  "application/vnd.databricks.v1+notebook": {
   "computePreferences": null,
   "dashboards": [],
   "environmentMetadata": {
    "base_environment": "",
    "environment_version": "2"
   },
   "inputWidgetPreferences": null,
   "language": "python",
   "notebookMetadata": {
    "pythonIndentUnit": 4
   },
   "notebookName": "001-Ingestao_Bronze",
   "widgets": {}
  },
  "language_info": {
   "name": "python"
  }
 },
 "nbformat": 4,
 "nbformat_minor": 0
}
