{
 "cells": [
  {
   "cell_type": "code",
   "execution_count": 0,
   "metadata": {
    "application/vnd.databricks.v1+cell": {
     "cellMetadata": {
      "byteLimit": 2048000,
      "rowLimit": 10000
     },
     "inputWidgets": {},
     "nuid": "743071fe-771a-42fc-94a0-fd4ed80aa627",
     "showTitle": false,
     "tableResultSettingsMap": {},
     "title": ""
    }
   },
   "outputs": [],
   "source": [
    "spark.sql(\"\"\"\n",
    "          USE CATALOG workspace\n",
    "          \"\"\")"
   ]
  },
  {
   "cell_type": "code",
   "execution_count": 0,
   "metadata": {
    "application/vnd.databricks.v1+cell": {
     "cellMetadata": {
      "byteLimit": 2048000,
      "rowLimit": 10000
     },
     "inputWidgets": {},
     "nuid": "12541fff-c697-4173-ae45-acf0fbe3f786",
     "showTitle": false,
     "tableResultSettingsMap": {},
     "title": ""
    }
   },
   "outputs": [],
   "source": [
    "# Criar Schemas para camadas\n",
    "spark.sql(\"\"\"\n",
    "          CREATE SCHEMA IF NOT EXISTS workspace.bronze\n",
    "          COMMENT 'Dados brutos, com schema e metadados'\n",
    "          \"\"\")\n",
    "\n",
    "spark.sql(\"\"\"\n",
    "          CREATE SCHEMA IF NOT EXISTS workspace.silver\n",
    "          COMMENT 'Padronização de nomes/tipos, limpeza e parse de data'\n",
    "          \"\"\")\n",
    "\n",
    "spark.sql(\"\"\"\n",
    "          CREATE SCHEMA IF NOT EXISTS workspace.gold\n",
    "          COMMENT 'Dados prontos para consumo + um agregador simples'\n",
    "          \"\"\")"
   ]
  },
  {
   "cell_type": "code",
   "execution_count": 0,
   "metadata": {
    "application/vnd.databricks.v1+cell": {
     "cellMetadata": {
      "byteLimit": 2048000,
      "rowLimit": 10000
     },
     "inputWidgets": {},
     "nuid": "0f1a0521-98b9-4506-9362-76f5617ec07d",
     "showTitle": false,
     "tableResultSettingsMap": {},
     "title": ""
    }
   },
   "outputs": [],
   "source": [
    "# Criar o Volume para landing\n",
    "spark.sql(\"\"\"\n",
    "          CREATE VOLUME IF NOT EXISTS workspace.default.formacaomicrosoftpowerbiprofessional\n",
    "          COMMENT 'Landingzone para ingestão de arquivos (V0)'\n",
    "          \"\"\")"
   ]
  }
 ],
 "metadata": {
  "application/vnd.databricks.v1+notebook": {
   "computePreferences": null,
   "dashboards": [],
   "environmentMetadata": {
    "base_environment": "",
    "environment_version": "2"
   },
   "inputWidgetPreferences": null,
   "language": "python",
   "notebookMetadata": {
    "pythonIndentUnit": 4
   },
   "notebookName": "000-Setup",
   "widgets": {}
  },
  "language_info": {
   "name": "python"
  }
 },
 "nbformat": 4,
 "nbformat_minor": 0
}
