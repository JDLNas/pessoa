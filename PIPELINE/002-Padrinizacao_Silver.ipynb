{
 "cells": [
  {
   "cell_type": "code",
   "execution_count": 0,
   "metadata": {
    "application/vnd.databricks.v1+cell": {
     "cellMetadata": {
      "byteLimit": 2048000,
      "rowLimit": 10000
     },
     "inputWidgets": {},
     "nuid": "30b758c9-6927-469f-8cd4-3998af33f9b7",
     "showTitle": false,
     "tableResultSettingsMap": {},
     "title": ""
    }
   },
   "outputs": [],
   "source": [
    "# Imports\n",
    "from pyspark.sql import SparkSession\n",
    "from pyspark.sql import functions as F\n",
    "from pyspark.sql.functions import current_timestamp, lit, trim\n",
    "from pyspark.sql.types import StructType, StructField, IntegerType, StringType\n",
    "from datetime import datetime\n",
    "\n",
    "# Inicializa a sessão\n",
    "spark = SparkSession.builder.getOrCreate()"
   ]
  },
  {
   "cell_type": "code",
   "execution_count": 0,
   "metadata": {
    "application/vnd.databricks.v1+cell": {
     "cellMetadata": {
      "byteLimit": 2048000,
      "rowLimit": 10000
     },
     "inputWidgets": {},
     "nuid": "5cb34238-3dcc-472b-8d97-fa7258eea050",
     "showTitle": false,
     "tableResultSettingsMap": {},
     "title": ""
    }
   },
   "outputs": [],
   "source": [
    "catalog       = \"workspace\"\n",
    "schema_bronze = \"bronze\"\n",
    "schema_silver = \"silver\""
   ]
  },
  {
   "cell_type": "code",
   "execution_count": 0,
   "metadata": {
    "application/vnd.databricks.v1+cell": {
     "cellMetadata": {
      "byteLimit": 2048000,
      "rowLimit": 10000
     },
     "inputWidgets": {},
     "nuid": "d555eca6-c20e-414d-8763-0afc87dafb65",
     "showTitle": false,
     "tableResultSettingsMap": {},
     "title": ""
    }
   },
   "outputs": [],
   "source": [
    "# Padronização Silver\n",
    "# Limpeza, tipos e nomes\n",
    "df_bronze = spark.table(f\"{catalog}.{schema_bronze}.pessoas\")\n",
    "\n",
    "df_silver = (df_bronze\n",
    "             .select(\n",
    "                   (df_bronze.Codigo).cast(\"int\").alias(\"codigo\")\n",
    "                 , (F.trim(df_bronze.PrimeiroNome)).alias(\"primeiro_nome\")\n",
    "                 , (F.trim(df_bronze.UltimoNome).alias(\"ultimo_nome\"))\n",
    "                 , (F.lower(F.trim(df_bronze.email))).alias(\"email\")\n",
    "                 , (F.trim(df_bronze.Genero)).alias(\"genero\")\n",
    "                 , (F.trim(df_bronze.Avatar)).alias(\"avatar\")\n",
    "                 , (F.trim(df_bronze.Pais)).alias(\"pais\")\n",
    "                 , F.to_date(df_bronze.Nascimento, \"dd/MM/yyyy\").alias(\"data_nascimento\")\n",
    "                 , (df_bronze._ingestion_ts)\n",
    "                 )\n",
    "             .dropDuplicates([\"codigo\"])\n",
    "             .withColumn(\"_silver_ts\", F.current_timestamp())\n",
    "             .withColumn(\"nome_completo\", F.concat_ws(\" \", F.col(\"primeiro_nome\"), F.col(\"ultimo_nome\")))\n",
    "            )"
   ]
  },
  {
   "cell_type": "code",
   "execution_count": 0,
   "metadata": {
    "application/vnd.databricks.v1+cell": {
     "cellMetadata": {
      "byteLimit": 2048000,
      "rowLimit": 10000
     },
     "inputWidgets": {},
     "nuid": "9cfdee62-bd6a-48e6-a62f-3e34a1511116",
     "showTitle": false,
     "tableResultSettingsMap": {},
     "title": ""
    }
   },
   "outputs": [],
   "source": [
    "(df_silver\n",
    " .write\n",
    " .mode(\"overwrite\")\n",
    " .format(\"delta\")\n",
    " .option(\"overwriteSchema\", \"true\")\n",
    " .saveAsTable(f\"{catalog}.{schema_silver}.pessoas\")\n",
    ")\n",
    "\n",
    "print(\"Tabela Silver de pessoas salva com sucesso! ✨\")"
   ]
  }
 ],
 "metadata": {
  "application/vnd.databricks.v1+notebook": {
   "computePreferences": null,
   "dashboards": [],
   "environmentMetadata": {
    "base_environment": "",
    "environment_version": "2"
   },
   "inputWidgetPreferences": null,
   "language": "python",
   "notebookMetadata": {
    "pythonIndentUnit": 4
   },
   "notebookName": "002-Padrinizacao_Silver",
   "widgets": {}
  },
  "language_info": {
   "name": "python"
  }
 },
 "nbformat": 4,
 "nbformat_minor": 0
}
