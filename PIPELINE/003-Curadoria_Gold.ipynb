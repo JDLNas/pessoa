{
 "cells": [
  {
   "cell_type": "code",
   "execution_count": 0,
   "metadata": {
    "application/vnd.databricks.v1+cell": {
     "cellMetadata": {
      "byteLimit": 2048000,
      "rowLimit": 10000
     },
     "inputWidgets": {},
     "nuid": "fe33bdca-a153-4163-8a04-5af0b19405c1",
     "showTitle": false,
     "tableResultSettingsMap": {},
     "title": ""
    }
   },
   "outputs": [],
   "source": [
    "from pyspark.sql import SparkSession\n",
    "from pyspark.sql import functions as F\n",
    "from pyspark.sql.functions import months_between, floor, current_date\n",
    "\n",
    "\n",
    "spark = SparkSession.builder.getOrCreate()"
   ]
  },
  {
   "cell_type": "code",
   "execution_count": 0,
   "metadata": {
    "application/vnd.databricks.v1+cell": {
     "cellMetadata": {
      "byteLimit": 2048000,
      "rowLimit": 10000
     },
     "inputWidgets": {},
     "nuid": "9ac1ed58-e586-42da-9bfe-78900ec42c83",
     "showTitle": false,
     "tableResultSettingsMap": {},
     "title": ""
    }
   },
   "outputs": [],
   "source": [
    "catalog       = \"workspace\"\n",
    "schema_bronze = \"bronze\"\n",
    "schema_silver = \"silver\"\n",
    "schema_gold   = \"gold\""
   ]
  },
  {
   "cell_type": "code",
   "execution_count": 0,
   "metadata": {
    "application/vnd.databricks.v1+cell": {
     "cellMetadata": {
      "byteLimit": 2048000,
      "rowLimit": 10000
     },
     "inputWidgets": {},
     "nuid": "d4af1883-0938-4750-8472-692ec0eed444",
     "showTitle": false,
     "tableResultSettingsMap": {
      "0": {
       "dataGridStateBlob": "{\"version\":1,\"tableState\":{\"columnPinning\":{\"left\":[\"#row_number#\"],\"right\":[]},\"columnSizing\":{},\"columnVisibility\":{}},\"settings\":{\"columns\":{\"avatar\":{\"format\":{\"preset\":\"string-preset-url\"}}}},\"syncTimestamp\":1755177669946}",
       "filterBlob": null,
       "queryPlanFiltersBlob": null,
       "tableResultIndex": 0
      }
     },
     "title": ""
    }
   },
   "outputs": [],
   "source": [
    "df_gold = (spark\n",
    "           .table(f\"{catalog}.{schema_silver}.pessoas\")\n",
    "           .withColumn(\"idade\", floor(months_between(current_date(), F.col(\"data_nascimento\")) / 12))\n",
    "           .select(\n",
    "               \"codigo\"\n",
    "               , \"nome_completo\"\n",
    "               , \"idade\"\n",
    "               , \"email\"\n",
    "               , \"genero\"\n",
    "               , \"pais\"\n",
    "               , \"avatar\"\n",
    "               , \"data_nascimento\"\n",
    "               )\n",
    "           .withColumn(\"genero\",\n",
    "                                 F.when(\n",
    "                                     F.col(\"genero\") == \"Male\", \"Masculino\")\n",
    "                                 .when(F.col(\"genero\") == \"Female\", \"Feminino\")\n",
    "                                 .otherwise(\"genero\")\n",
    "                                 )\n",
    "           .withColumn(\"faixa_etaria\",\n",
    "                       F.when(F.col(\"idade\") < 18, \"18 -\")\n",
    "                        .when(F.col(\"idade\") < 30, \"18 a 29\")\n",
    "                        .when(F.col(\"idade\") < 45, \"30 a 44\")\n",
    "                        .when(F.col(\"idade\") < 60, \"45 a 59\")\n",
    "                        .otherwise(\"60 +\")\n",
    "                        )\n",
    "           )\n",
    "\n",
    "df_gold.display()"
   ]
  },
  {
   "cell_type": "code",
   "execution_count": 0,
   "metadata": {
    "application/vnd.databricks.v1+cell": {
     "cellMetadata": {
      "byteLimit": 2048000,
      "rowLimit": 10000
     },
     "inputWidgets": {},
     "nuid": "98e6b0de-4e20-4149-8b28-c59ee4d3835e",
     "showTitle": false,
     "tableResultSettingsMap": {},
     "title": ""
    }
   },
   "outputs": [],
   "source": [
    "(df_gold\n",
    " .write\n",
    " .mode(\"overwrite\")\n",
    " .format(\"delta\")\n",
    " .saveAsTable(f\"{catalog}.{schema_gold}.pessoas\")\n",
    " )"
   ]
  }
 ],
 "metadata": {
  "application/vnd.databricks.v1+notebook": {
   "computePreferences": null,
   "dashboards": [],
   "environmentMetadata": {
    "base_environment": "",
    "environment_version": "2"
   },
   "inputWidgetPreferences": null,
   "language": "python",
   "notebookMetadata": {
    "pythonIndentUnit": 4
   },
   "notebookName": "003-Curadoria_Gold",
   "widgets": {}
  },
  "language_info": {
   "name": "python"
  }
 },
 "nbformat": 4,
 "nbformat_minor": 0
}
